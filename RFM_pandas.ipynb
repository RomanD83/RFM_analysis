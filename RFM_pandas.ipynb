{
 "cells": [
  {
   "cell_type": "code",
   "execution_count": 51,
   "metadata": {},
   "outputs": [],
   "source": [
    "import pandas as pd\n",
    "import numpy as np\n",
    "import datetime as dt\n",
    "from scipy import stats"
   ]
  },
  {
   "cell_type": "code",
   "execution_count": 52,
   "metadata": {},
   "outputs": [
    {
     "data": {
      "text/html": [
       "<div>\n",
       "<style scoped>\n",
       "    .dataframe tbody tr th:only-of-type {\n",
       "        vertical-align: middle;\n",
       "    }\n",
       "\n",
       "    .dataframe tbody tr th {\n",
       "        vertical-align: top;\n",
       "    }\n",
       "\n",
       "    .dataframe thead th {\n",
       "        text-align: right;\n",
       "    }\n",
       "</style>\n",
       "<table border=\"1\" class=\"dataframe\">\n",
       "  <thead>\n",
       "    <tr style=\"text-align: right;\">\n",
       "      <th></th>\n",
       "      <th>datetime</th>\n",
       "      <th>shop</th>\n",
       "      <th>card</th>\n",
       "      <th>bonus_earned</th>\n",
       "      <th>bonus_spent</th>\n",
       "      <th>summ</th>\n",
       "      <th>summ_with_disc</th>\n",
       "      <th>doc_id</th>\n",
       "    </tr>\n",
       "  </thead>\n",
       "  <tbody>\n",
       "    <tr>\n",
       "      <th>0</th>\n",
       "      <td>2021-07-13 12:56:09.000</td>\n",
       "      <td>Аптека 2</td>\n",
       "      <td>2000200195023</td>\n",
       "      <td>51</td>\n",
       "      <td>0</td>\n",
       "      <td>3400</td>\n",
       "      <td>3400</td>\n",
       "      <td>15#2002741#65938#2_29</td>\n",
       "    </tr>\n",
       "    <tr>\n",
       "      <th>1</th>\n",
       "      <td>2021-07-30 10:42:00.000</td>\n",
       "      <td>Аптека 2</td>\n",
       "      <td>2000200193494</td>\n",
       "      <td>57</td>\n",
       "      <td>0</td>\n",
       "      <td>747</td>\n",
       "      <td>747</td>\n",
       "      <td>15#2002972#65955#2_5</td>\n",
       "    </tr>\n",
       "    <tr>\n",
       "      <th>2</th>\n",
       "      <td>2021-10-11 12:55:23.000</td>\n",
       "      <td>Аптека 2</td>\n",
       "      <td>2000200199106</td>\n",
       "      <td>92</td>\n",
       "      <td>253</td>\n",
       "      <td>3077</td>\n",
       "      <td>3077</td>\n",
       "      <td>15#2004060#66028#2_29</td>\n",
       "    </tr>\n",
       "    <tr>\n",
       "      <th>3</th>\n",
       "      <td>2021-10-14 14:48:56.000</td>\n",
       "      <td>Аптека 2</td>\n",
       "      <td>2000200168768</td>\n",
       "      <td>1</td>\n",
       "      <td>0</td>\n",
       "      <td>54</td>\n",
       "      <td>54</td>\n",
       "      <td>15#2004107#66031#2_57</td>\n",
       "    </tr>\n",
       "    <tr>\n",
       "      <th>4</th>\n",
       "      <td>2021-10-20 11:09:39.000</td>\n",
       "      <td>Аптека 2</td>\n",
       "      <td>2000200226314</td>\n",
       "      <td>101</td>\n",
       "      <td>0</td>\n",
       "      <td>1733</td>\n",
       "      <td>1733</td>\n",
       "      <td>15#2004192#66037#2_16</td>\n",
       "    </tr>\n",
       "  </tbody>\n",
       "</table>\n",
       "</div>"
      ],
      "text/plain": [
       "                  datetime      shop           card  bonus_earned  \\\n",
       "0  2021-07-13 12:56:09.000  Аптека 2  2000200195023            51   \n",
       "1  2021-07-30 10:42:00.000  Аптека 2  2000200193494            57   \n",
       "2  2021-10-11 12:55:23.000  Аптека 2  2000200199106            92   \n",
       "3  2021-10-14 14:48:56.000  Аптека 2  2000200168768             1   \n",
       "4  2021-10-20 11:09:39.000  Аптека 2  2000200226314           101   \n",
       "\n",
       "   bonus_spent  summ  summ_with_disc                 doc_id  \n",
       "0            0  3400            3400  15#2002741#65938#2_29  \n",
       "1            0   747             747   15#2002972#65955#2_5  \n",
       "2          253  3077            3077  15#2004060#66028#2_29  \n",
       "3            0    54              54  15#2004107#66031#2_57  \n",
       "4            0  1733            1733  15#2004192#66037#2_16  "
      ]
     },
     "execution_count": 52,
     "metadata": {},
     "output_type": "execute_result"
    }
   ],
   "source": [
    "df = pd.read_csv('/home/roman/git_projects/RFM_analysis/bonuscheques_202312252155.csv')\n",
    "df.head()"
   ]
  },
  {
   "cell_type": "code",
   "execution_count": 53,
   "metadata": {},
   "outputs": [
    {
     "data": {
      "text/plain": [
       "(38486, 8)"
      ]
     },
     "execution_count": 53,
     "metadata": {},
     "output_type": "execute_result"
    }
   ],
   "source": [
    "df.shape"
   ]
  },
  {
   "cell_type": "code",
   "execution_count": 54,
   "metadata": {},
   "outputs": [
    {
     "data": {
      "text/plain": [
       "datetime          object\n",
       "shop              object\n",
       "card              object\n",
       "bonus_earned       int64\n",
       "bonus_spent        int64\n",
       "summ               int64\n",
       "summ_with_disc     int64\n",
       "doc_id            object\n",
       "dtype: object"
      ]
     },
     "execution_count": 54,
     "metadata": {},
     "output_type": "execute_result"
    }
   ],
   "source": [
    "df.dtypes"
   ]
  },
  {
   "cell_type": "code",
   "execution_count": 55,
   "metadata": {},
   "outputs": [
    {
     "data": {
      "text/plain": [
       "datetime          0\n",
       "shop              0\n",
       "card              0\n",
       "bonus_earned      0\n",
       "bonus_spent       0\n",
       "summ              0\n",
       "summ_with_disc    0\n",
       "doc_id            0\n",
       "dtype: int64"
      ]
     },
     "execution_count": 55,
     "metadata": {},
     "output_type": "execute_result"
    }
   ],
   "source": [
    "df.isna().sum()"
   ]
  },
  {
   "cell_type": "code",
   "execution_count": 56,
   "metadata": {},
   "outputs": [],
   "source": [
    "df['datetime'] = df['datetime'].apply(pd.to_datetime)\n",
    "snapshot_date = df['datetime'].max()\n",
    "df_RFM = df.groupby('card').agg({\n",
    "    'datetime': lambda x: (snapshot_date - x.max()).days,\n",
    "    'card': 'count',\n",
    "    'summ_with_disc': 'sum'\n",
    "})"
   ]
  },
  {
   "cell_type": "code",
   "execution_count": 57,
   "metadata": {},
   "outputs": [
    {
     "data": {
      "text/html": [
       "<div>\n",
       "<style scoped>\n",
       "    .dataframe tbody tr th:only-of-type {\n",
       "        vertical-align: middle;\n",
       "    }\n",
       "\n",
       "    .dataframe tbody tr th {\n",
       "        vertical-align: top;\n",
       "    }\n",
       "\n",
       "    .dataframe thead th {\n",
       "        text-align: right;\n",
       "    }\n",
       "</style>\n",
       "<table border=\"1\" class=\"dataframe\">\n",
       "  <thead>\n",
       "    <tr style=\"text-align: right;\">\n",
       "      <th></th>\n",
       "      <th>datetime</th>\n",
       "      <th>card</th>\n",
       "      <th>summ_with_disc</th>\n",
       "    </tr>\n",
       "    <tr>\n",
       "      <th>card</th>\n",
       "      <th></th>\n",
       "      <th></th>\n",
       "      <th></th>\n",
       "    </tr>\n",
       "  </thead>\n",
       "  <tbody>\n",
       "    <tr>\n",
       "      <th>001848d0-e56a-412e-be0a-423dfa0e564f</th>\n",
       "      <td>26</td>\n",
       "      <td>7</td>\n",
       "      <td>4391</td>\n",
       "    </tr>\n",
       "    <tr>\n",
       "      <th>001cb0a0-e62e-47a9-995e-599bdc7f8750</th>\n",
       "      <td>27</td>\n",
       "      <td>12</td>\n",
       "      <td>5887</td>\n",
       "    </tr>\n",
       "    <tr>\n",
       "      <th>00572591-c154-4b9f-83e4-3ce5b00bf9c8</th>\n",
       "      <td>244</td>\n",
       "      <td>1</td>\n",
       "      <td>557</td>\n",
       "    </tr>\n",
       "    <tr>\n",
       "      <th>00625996-f49f-4863-8132-40d08e99b2da</th>\n",
       "      <td>56</td>\n",
       "      <td>4</td>\n",
       "      <td>4755</td>\n",
       "    </tr>\n",
       "    <tr>\n",
       "      <th>00703805-f16d-4b83-b7ad-affb2736aa0d</th>\n",
       "      <td>15</td>\n",
       "      <td>1</td>\n",
       "      <td>1555</td>\n",
       "    </tr>\n",
       "    <tr>\n",
       "      <th>...</th>\n",
       "      <td>...</td>\n",
       "      <td>...</td>\n",
       "      <td>...</td>\n",
       "    </tr>\n",
       "    <tr>\n",
       "      <th>ff9695c5-6e8c-4446-adc6-944b2731b8f7</th>\n",
       "      <td>172</td>\n",
       "      <td>1</td>\n",
       "      <td>559</td>\n",
       "    </tr>\n",
       "    <tr>\n",
       "      <th>ffbf9d44-679e-412a-9927-ac6ce80c49a2</th>\n",
       "      <td>286</td>\n",
       "      <td>1</td>\n",
       "      <td>539</td>\n",
       "    </tr>\n",
       "    <tr>\n",
       "      <th>ffd22196-662c-4266-b3be-024a42cad78b</th>\n",
       "      <td>4</td>\n",
       "      <td>3</td>\n",
       "      <td>2052</td>\n",
       "    </tr>\n",
       "    <tr>\n",
       "      <th>ffd93478-ad6d-494f-a6ab-f7f0c8058488</th>\n",
       "      <td>99</td>\n",
       "      <td>7</td>\n",
       "      <td>2294</td>\n",
       "    </tr>\n",
       "    <tr>\n",
       "      <th>ffe736c6-bba4-4578-99df-e1d9846c44c4</th>\n",
       "      <td>71</td>\n",
       "      <td>3</td>\n",
       "      <td>3429</td>\n",
       "    </tr>\n",
       "  </tbody>\n",
       "</table>\n",
       "<p>9394 rows × 3 columns</p>\n",
       "</div>"
      ],
      "text/plain": [
       "                                      datetime  card  summ_with_disc\n",
       "card                                                                \n",
       "001848d0-e56a-412e-be0a-423dfa0e564f        26     7            4391\n",
       "001cb0a0-e62e-47a9-995e-599bdc7f8750        27    12            5887\n",
       "00572591-c154-4b9f-83e4-3ce5b00bf9c8       244     1             557\n",
       "00625996-f49f-4863-8132-40d08e99b2da        56     4            4755\n",
       "00703805-f16d-4b83-b7ad-affb2736aa0d        15     1            1555\n",
       "...                                        ...   ...             ...\n",
       "ff9695c5-6e8c-4446-adc6-944b2731b8f7       172     1             559\n",
       "ffbf9d44-679e-412a-9927-ac6ce80c49a2       286     1             539\n",
       "ffd22196-662c-4266-b3be-024a42cad78b         4     3            2052\n",
       "ffd93478-ad6d-494f-a6ab-f7f0c8058488        99     7            2294\n",
       "ffe736c6-bba4-4578-99df-e1d9846c44c4        71     3            3429\n",
       "\n",
       "[9394 rows x 3 columns]"
      ]
     },
     "execution_count": 57,
     "metadata": {},
     "output_type": "execute_result"
    }
   ],
   "source": [
    "df_RFM"
   ]
  },
  {
   "cell_type": "code",
   "execution_count": 58,
   "metadata": {},
   "outputs": [],
   "source": [
    "df_RFM.rename(columns={\n",
    "    'datetime': 'Recency',\n",
    "    'card': 'Frequency',\n",
    "    'summ_with_disc': 'Monetary'\n",
    "}, inplace=True)"
   ]
  },
  {
   "cell_type": "code",
   "execution_count": 59,
   "metadata": {},
   "outputs": [
    {
     "data": {
      "text/html": [
       "<div>\n",
       "<style scoped>\n",
       "    .dataframe tbody tr th:only-of-type {\n",
       "        vertical-align: middle;\n",
       "    }\n",
       "\n",
       "    .dataframe tbody tr th {\n",
       "        vertical-align: top;\n",
       "    }\n",
       "\n",
       "    .dataframe thead th {\n",
       "        text-align: right;\n",
       "    }\n",
       "</style>\n",
       "<table border=\"1\" class=\"dataframe\">\n",
       "  <thead>\n",
       "    <tr style=\"text-align: right;\">\n",
       "      <th></th>\n",
       "      <th>Recency</th>\n",
       "      <th>Frequency</th>\n",
       "      <th>Monetary</th>\n",
       "    </tr>\n",
       "    <tr>\n",
       "      <th>card</th>\n",
       "      <th></th>\n",
       "      <th></th>\n",
       "      <th></th>\n",
       "    </tr>\n",
       "  </thead>\n",
       "  <tbody>\n",
       "    <tr>\n",
       "      <th>001848d0-e56a-412e-be0a-423dfa0e564f</th>\n",
       "      <td>26</td>\n",
       "      <td>7</td>\n",
       "      <td>4391</td>\n",
       "    </tr>\n",
       "    <tr>\n",
       "      <th>001cb0a0-e62e-47a9-995e-599bdc7f8750</th>\n",
       "      <td>27</td>\n",
       "      <td>12</td>\n",
       "      <td>5887</td>\n",
       "    </tr>\n",
       "    <tr>\n",
       "      <th>00572591-c154-4b9f-83e4-3ce5b00bf9c8</th>\n",
       "      <td>244</td>\n",
       "      <td>1</td>\n",
       "      <td>557</td>\n",
       "    </tr>\n",
       "    <tr>\n",
       "      <th>00625996-f49f-4863-8132-40d08e99b2da</th>\n",
       "      <td>56</td>\n",
       "      <td>4</td>\n",
       "      <td>4755</td>\n",
       "    </tr>\n",
       "    <tr>\n",
       "      <th>00703805-f16d-4b83-b7ad-affb2736aa0d</th>\n",
       "      <td>15</td>\n",
       "      <td>1</td>\n",
       "      <td>1555</td>\n",
       "    </tr>\n",
       "    <tr>\n",
       "      <th>...</th>\n",
       "      <td>...</td>\n",
       "      <td>...</td>\n",
       "      <td>...</td>\n",
       "    </tr>\n",
       "    <tr>\n",
       "      <th>ff9695c5-6e8c-4446-adc6-944b2731b8f7</th>\n",
       "      <td>172</td>\n",
       "      <td>1</td>\n",
       "      <td>559</td>\n",
       "    </tr>\n",
       "    <tr>\n",
       "      <th>ffbf9d44-679e-412a-9927-ac6ce80c49a2</th>\n",
       "      <td>286</td>\n",
       "      <td>1</td>\n",
       "      <td>539</td>\n",
       "    </tr>\n",
       "    <tr>\n",
       "      <th>ffd22196-662c-4266-b3be-024a42cad78b</th>\n",
       "      <td>4</td>\n",
       "      <td>3</td>\n",
       "      <td>2052</td>\n",
       "    </tr>\n",
       "    <tr>\n",
       "      <th>ffd93478-ad6d-494f-a6ab-f7f0c8058488</th>\n",
       "      <td>99</td>\n",
       "      <td>7</td>\n",
       "      <td>2294</td>\n",
       "    </tr>\n",
       "    <tr>\n",
       "      <th>ffe736c6-bba4-4578-99df-e1d9846c44c4</th>\n",
       "      <td>71</td>\n",
       "      <td>3</td>\n",
       "      <td>3429</td>\n",
       "    </tr>\n",
       "  </tbody>\n",
       "</table>\n",
       "<p>9394 rows × 3 columns</p>\n",
       "</div>"
      ],
      "text/plain": [
       "                                      Recency  Frequency  Monetary\n",
       "card                                                              \n",
       "001848d0-e56a-412e-be0a-423dfa0e564f       26          7      4391\n",
       "001cb0a0-e62e-47a9-995e-599bdc7f8750       27         12      5887\n",
       "00572591-c154-4b9f-83e4-3ce5b00bf9c8      244          1       557\n",
       "00625996-f49f-4863-8132-40d08e99b2da       56          4      4755\n",
       "00703805-f16d-4b83-b7ad-affb2736aa0d       15          1      1555\n",
       "...                                       ...        ...       ...\n",
       "ff9695c5-6e8c-4446-adc6-944b2731b8f7      172          1       559\n",
       "ffbf9d44-679e-412a-9927-ac6ce80c49a2      286          1       539\n",
       "ffd22196-662c-4266-b3be-024a42cad78b        4          3      2052\n",
       "ffd93478-ad6d-494f-a6ab-f7f0c8058488       99          7      2294\n",
       "ffe736c6-bba4-4578-99df-e1d9846c44c4       71          3      3429\n",
       "\n",
       "[9394 rows x 3 columns]"
      ]
     },
     "execution_count": 59,
     "metadata": {},
     "output_type": "execute_result"
    }
   ],
   "source": [
    "df_RFM"
   ]
  },
  {
   "cell_type": "code",
   "execution_count": 60,
   "metadata": {},
   "outputs": [
    {
     "data": {
      "text/plain": [
       "Recency      int64\n",
       "Frequency    int64\n",
       "Monetary     int64\n",
       "dtype: object"
      ]
     },
     "execution_count": 60,
     "metadata": {},
     "output_type": "execute_result"
    }
   ],
   "source": [
    "df_RFM.dtypes"
   ]
  },
  {
   "cell_type": "code",
   "execution_count": 61,
   "metadata": {},
   "outputs": [
    {
     "data": {
      "text/html": [
       "<div>\n",
       "<style scoped>\n",
       "    .dataframe tbody tr th:only-of-type {\n",
       "        vertical-align: middle;\n",
       "    }\n",
       "\n",
       "    .dataframe tbody tr th {\n",
       "        vertical-align: top;\n",
       "    }\n",
       "\n",
       "    .dataframe thead th {\n",
       "        text-align: right;\n",
       "    }\n",
       "</style>\n",
       "<table border=\"1\" class=\"dataframe\">\n",
       "  <thead>\n",
       "    <tr style=\"text-align: right;\">\n",
       "      <th></th>\n",
       "      <th>Recency</th>\n",
       "      <th>Frequency</th>\n",
       "      <th>Monetary</th>\n",
       "    </tr>\n",
       "  </thead>\n",
       "  <tbody>\n",
       "    <tr>\n",
       "      <th>count</th>\n",
       "      <td>9394.000000</td>\n",
       "      <td>9394.00000</td>\n",
       "      <td>9394.000000</td>\n",
       "    </tr>\n",
       "    <tr>\n",
       "      <th>mean</th>\n",
       "      <td>112.924420</td>\n",
       "      <td>4.09687</td>\n",
       "      <td>3416.820098</td>\n",
       "    </tr>\n",
       "    <tr>\n",
       "      <th>std</th>\n",
       "      <td>95.124941</td>\n",
       "      <td>6.43155</td>\n",
       "      <td>6388.046844</td>\n",
       "    </tr>\n",
       "    <tr>\n",
       "      <th>min</th>\n",
       "      <td>0.000000</td>\n",
       "      <td>1.00000</td>\n",
       "      <td>21.000000</td>\n",
       "    </tr>\n",
       "    <tr>\n",
       "      <th>25%</th>\n",
       "      <td>29.000000</td>\n",
       "      <td>1.00000</td>\n",
       "      <td>731.250000</td>\n",
       "    </tr>\n",
       "    <tr>\n",
       "      <th>50%</th>\n",
       "      <td>87.000000</td>\n",
       "      <td>2.00000</td>\n",
       "      <td>1586.000000</td>\n",
       "    </tr>\n",
       "    <tr>\n",
       "      <th>75%</th>\n",
       "      <td>182.000000</td>\n",
       "      <td>5.00000</td>\n",
       "      <td>3731.750000</td>\n",
       "    </tr>\n",
       "    <tr>\n",
       "      <th>max</th>\n",
       "      <td>332.000000</td>\n",
       "      <td>217.00000</td>\n",
       "      <td>162687.000000</td>\n",
       "    </tr>\n",
       "  </tbody>\n",
       "</table>\n",
       "</div>"
      ],
      "text/plain": [
       "           Recency   Frequency       Monetary\n",
       "count  9394.000000  9394.00000    9394.000000\n",
       "mean    112.924420     4.09687    3416.820098\n",
       "std      95.124941     6.43155    6388.046844\n",
       "min       0.000000     1.00000      21.000000\n",
       "25%      29.000000     1.00000     731.250000\n",
       "50%      87.000000     2.00000    1586.000000\n",
       "75%     182.000000     5.00000    3731.750000\n",
       "max     332.000000   217.00000  162687.000000"
      ]
     },
     "execution_count": 61,
     "metadata": {},
     "output_type": "execute_result"
    }
   ],
   "source": [
    "df_RFM[['Recency', 'Frequency', 'Monetary']].describe()"
   ]
  },
  {
   "cell_type": "code",
   "execution_count": 62,
   "metadata": {},
   "outputs": [
    {
     "data": {
      "text/html": [
       "<div>\n",
       "<style scoped>\n",
       "    .dataframe tbody tr th:only-of-type {\n",
       "        vertical-align: middle;\n",
       "    }\n",
       "\n",
       "    .dataframe tbody tr th {\n",
       "        vertical-align: top;\n",
       "    }\n",
       "\n",
       "    .dataframe thead th {\n",
       "        text-align: right;\n",
       "    }\n",
       "</style>\n",
       "<table border=\"1\" class=\"dataframe\">\n",
       "  <thead>\n",
       "    <tr style=\"text-align: right;\">\n",
       "      <th></th>\n",
       "      <th>Recency</th>\n",
       "      <th>Frequency</th>\n",
       "      <th>Monetary</th>\n",
       "    </tr>\n",
       "  </thead>\n",
       "  <tbody>\n",
       "    <tr>\n",
       "      <th>0</th>\n",
       "      <td>2</td>\n",
       "      <td>1</td>\n",
       "      <td>619</td>\n",
       "    </tr>\n",
       "  </tbody>\n",
       "</table>\n",
       "</div>"
      ],
      "text/plain": [
       "   Recency  Frequency  Monetary\n",
       "0        2          1       619"
      ]
     },
     "execution_count": 62,
     "metadata": {},
     "output_type": "execute_result"
    }
   ],
   "source": [
    "df_RFM[['Recency', 'Frequency', 'Monetary']].mode()"
   ]
  },
  {
   "cell_type": "code",
   "execution_count": 63,
   "metadata": {},
   "outputs": [
    {
     "data": {
      "text/plain": [
       "Recency       133\n",
       "Frequency    3784\n",
       "Monetary       11\n",
       "dtype: int64"
      ]
     },
     "execution_count": 63,
     "metadata": {},
     "output_type": "execute_result"
    }
   ],
   "source": [
    "pd.concat([df_RFM.eq(x) for _, x in df_RFM.mode().iterrows()]).sum()"
   ]
  },
  {
   "cell_type": "code",
   "execution_count": 64,
   "metadata": {},
   "outputs": [
    {
     "data": {
      "text/plain": [
       "248"
      ]
     },
     "execution_count": 64,
     "metadata": {},
     "output_type": "execute_result"
    }
   ],
   "source": [
    "df_RFM.query('Recency in (0, 1)')['Recency'].count()"
   ]
  },
  {
   "cell_type": "code",
   "execution_count": 65,
   "metadata": {},
   "outputs": [
    {
     "data": {
      "text/plain": [
       "card\n",
       "e77d379f-87c9-4986-b2f1-0f841a3d9ade    10869\n",
       "2000200211426                           10531\n",
       "2000200249696                           10102\n",
       "1e2c4501-2da6-4e42-9fa7-51b0a4d1cec1     9801\n",
       "2000200194224                            9793\n",
       "2000200208877                            9092\n",
       "2000200241225                            8668\n",
       "2000200216056                            8557\n",
       "2000200241430                            8495\n",
       "2000200221425                            8395\n",
       "2000200194316                            7993\n",
       "2000200238409                            7928\n",
       "2000200248019                            7920\n",
       "2000200227595                            7404\n",
       "2000200209669                            7028\n",
       "Name: Monetary, dtype: int64"
      ]
     },
     "execution_count": 65,
     "metadata": {},
     "output_type": "execute_result"
    }
   ],
   "source": [
    "df_RFM.query('Frequency == 1')['Monetary'].sort_values(ascending=False).head(15)"
   ]
  },
  {
   "cell_type": "code",
   "execution_count": 66,
   "metadata": {},
   "outputs": [
    {
     "data": {
      "text/plain": [
       "12"
      ]
     },
     "execution_count": 66,
     "metadata": {},
     "output_type": "execute_result"
    }
   ],
   "source": [
    "round((df_RFM.query('Frequency == 1')['Monetary'].sum() / df_RFM['Monetary'].sum()) * 100)"
   ]
  },
  {
   "cell_type": "markdown",
   "metadata": {},
   "source": [
    "- около 12 процентов составляет сумма, принесенная клиентами, которые сделали лишь один заказ. 12 процентов относительно всей суммы цифра немалая, но учитывая, что ее принесли более одной трети клиентов, а значит остальные деньги принесли другие две-трети клиентов, тех, кто был лишь один раз и сделал лишь один заказ при построении итогового RFM-запроса мы отсеивать не будем - любой клиент, даже сделавший один заказ, в будущем это потенциальный постоянный клиент. Так как есть разбросы в медианах и средних значениях, посмотрим и сравним данные значения с усеченными данными, уберем по 5% от минимума и максимума:"
   ]
  },
  {
   "cell_type": "code",
   "execution_count": 67,
   "metadata": {},
   "outputs": [
    {
     "data": {
      "text/plain": [
       "array([ 107.94311731,    3.1711211 , 2514.76300851])"
      ]
     },
     "execution_count": 67,
     "metadata": {},
     "output_type": "execute_result"
    }
   ],
   "source": [
    "stats.trim_mean(df_RFM, 0.05)"
   ]
  },
  {
   "cell_type": "code",
   "execution_count": 68,
   "metadata": {},
   "outputs": [],
   "source": [
    "df_RFM['new_column'] = np.where(df_RFM['Recency']<100, '< 100 days',\n",
    "                   np.where(df_RFM['Recency']<200, '>= 100 and < 200 days',\n",
    "                   np.where(df_RFM['Recency']<300, '>= 200 and < 300 days', '>= 300 days')))"
   ]
  },
  {
   "cell_type": "code",
   "execution_count": 72,
   "metadata": {},
   "outputs": [
    {
     "data": {
      "text/html": [
       "<div>\n",
       "<style scoped>\n",
       "    .dataframe tbody tr th:only-of-type {\n",
       "        vertical-align: middle;\n",
       "    }\n",
       "\n",
       "    .dataframe tbody tr th {\n",
       "        vertical-align: top;\n",
       "    }\n",
       "\n",
       "    .dataframe thead th {\n",
       "        text-align: right;\n",
       "    }\n",
       "</style>\n",
       "<table border=\"1\" class=\"dataframe\">\n",
       "  <thead>\n",
       "    <tr style=\"text-align: right;\">\n",
       "      <th></th>\n",
       "      <th>card</th>\n",
       "      <th>Recency</th>\n",
       "      <th>Frequency</th>\n",
       "      <th>Monetary</th>\n",
       "      <th>new_column</th>\n",
       "    </tr>\n",
       "  </thead>\n",
       "  <tbody>\n",
       "    <tr>\n",
       "      <th>0</th>\n",
       "      <td>001848d0-e56a-412e-be0a-423dfa0e564f</td>\n",
       "      <td>26</td>\n",
       "      <td>7</td>\n",
       "      <td>4391</td>\n",
       "      <td>&lt; 100 days</td>\n",
       "    </tr>\n",
       "    <tr>\n",
       "      <th>1</th>\n",
       "      <td>001cb0a0-e62e-47a9-995e-599bdc7f8750</td>\n",
       "      <td>27</td>\n",
       "      <td>12</td>\n",
       "      <td>5887</td>\n",
       "      <td>&lt; 100 days</td>\n",
       "    </tr>\n",
       "    <tr>\n",
       "      <th>2</th>\n",
       "      <td>00572591-c154-4b9f-83e4-3ce5b00bf9c8</td>\n",
       "      <td>244</td>\n",
       "      <td>1</td>\n",
       "      <td>557</td>\n",
       "      <td>&gt;= 200 and &lt; 300 days</td>\n",
       "    </tr>\n",
       "    <tr>\n",
       "      <th>3</th>\n",
       "      <td>00625996-f49f-4863-8132-40d08e99b2da</td>\n",
       "      <td>56</td>\n",
       "      <td>4</td>\n",
       "      <td>4755</td>\n",
       "      <td>&lt; 100 days</td>\n",
       "    </tr>\n",
       "    <tr>\n",
       "      <th>4</th>\n",
       "      <td>00703805-f16d-4b83-b7ad-affb2736aa0d</td>\n",
       "      <td>15</td>\n",
       "      <td>1</td>\n",
       "      <td>1555</td>\n",
       "      <td>&lt; 100 days</td>\n",
       "    </tr>\n",
       "    <tr>\n",
       "      <th>...</th>\n",
       "      <td>...</td>\n",
       "      <td>...</td>\n",
       "      <td>...</td>\n",
       "      <td>...</td>\n",
       "      <td>...</td>\n",
       "    </tr>\n",
       "    <tr>\n",
       "      <th>9389</th>\n",
       "      <td>ff9695c5-6e8c-4446-adc6-944b2731b8f7</td>\n",
       "      <td>172</td>\n",
       "      <td>1</td>\n",
       "      <td>559</td>\n",
       "      <td>&gt;= 100 and &lt; 200 days</td>\n",
       "    </tr>\n",
       "    <tr>\n",
       "      <th>9390</th>\n",
       "      <td>ffbf9d44-679e-412a-9927-ac6ce80c49a2</td>\n",
       "      <td>286</td>\n",
       "      <td>1</td>\n",
       "      <td>539</td>\n",
       "      <td>&gt;= 200 and &lt; 300 days</td>\n",
       "    </tr>\n",
       "    <tr>\n",
       "      <th>9391</th>\n",
       "      <td>ffd22196-662c-4266-b3be-024a42cad78b</td>\n",
       "      <td>4</td>\n",
       "      <td>3</td>\n",
       "      <td>2052</td>\n",
       "      <td>&lt; 100 days</td>\n",
       "    </tr>\n",
       "    <tr>\n",
       "      <th>9392</th>\n",
       "      <td>ffd93478-ad6d-494f-a6ab-f7f0c8058488</td>\n",
       "      <td>99</td>\n",
       "      <td>7</td>\n",
       "      <td>2294</td>\n",
       "      <td>&lt; 100 days</td>\n",
       "    </tr>\n",
       "    <tr>\n",
       "      <th>9393</th>\n",
       "      <td>ffe736c6-bba4-4578-99df-e1d9846c44c4</td>\n",
       "      <td>71</td>\n",
       "      <td>3</td>\n",
       "      <td>3429</td>\n",
       "      <td>&lt; 100 days</td>\n",
       "    </tr>\n",
       "  </tbody>\n",
       "</table>\n",
       "<p>9394 rows × 5 columns</p>\n",
       "</div>"
      ],
      "text/plain": [
       "                                      card  Recency  Frequency  Monetary  \\\n",
       "0     001848d0-e56a-412e-be0a-423dfa0e564f       26          7      4391   \n",
       "1     001cb0a0-e62e-47a9-995e-599bdc7f8750       27         12      5887   \n",
       "2     00572591-c154-4b9f-83e4-3ce5b00bf9c8      244          1       557   \n",
       "3     00625996-f49f-4863-8132-40d08e99b2da       56          4      4755   \n",
       "4     00703805-f16d-4b83-b7ad-affb2736aa0d       15          1      1555   \n",
       "...                                    ...      ...        ...       ...   \n",
       "9389  ff9695c5-6e8c-4446-adc6-944b2731b8f7      172          1       559   \n",
       "9390  ffbf9d44-679e-412a-9927-ac6ce80c49a2      286          1       539   \n",
       "9391  ffd22196-662c-4266-b3be-024a42cad78b        4          3      2052   \n",
       "9392  ffd93478-ad6d-494f-a6ab-f7f0c8058488       99          7      2294   \n",
       "9393  ffe736c6-bba4-4578-99df-e1d9846c44c4       71          3      3429   \n",
       "\n",
       "                 new_column  \n",
       "0                < 100 days  \n",
       "1                < 100 days  \n",
       "2     >= 200 and < 300 days  \n",
       "3                < 100 days  \n",
       "4                < 100 days  \n",
       "...                     ...  \n",
       "9389  >= 100 and < 200 days  \n",
       "9390  >= 200 and < 300 days  \n",
       "9391             < 100 days  \n",
       "9392             < 100 days  \n",
       "9393             < 100 days  \n",
       "\n",
       "[9394 rows x 5 columns]"
      ]
     },
     "execution_count": 72,
     "metadata": {},
     "output_type": "execute_result"
    }
   ],
   "source": [
    "df_RFM = df_RFM.reset_index()\n",
    "df_RFM"
   ]
  },
  {
   "cell_type": "code",
   "execution_count": 73,
   "metadata": {},
   "outputs": [
    {
     "data": {
      "text/plain": [
       "new_column\n",
       "< 100 days               5100\n",
       ">= 100 and < 200 days    2274\n",
       ">= 200 and < 300 days    1588\n",
       ">= 300 days               432\n",
       "Name: card, dtype: int64"
      ]
     },
     "execution_count": 73,
     "metadata": {},
     "output_type": "execute_result"
    }
   ],
   "source": [
    "df_RFM.groupby('new_column')['card'].count()"
   ]
  },
  {
   "cell_type": "markdown",
   "metadata": {},
   "source": [
    "Результат - 5100, 2274, 1588 и 432 (если сложить все четыре итога, то получится 9394, количество уникальных клиентов, значит, потерь нет). 5100 клиентов посетили аптеку за последние сто дней, это более половины из всех."
   ]
  },
  {
   "cell_type": "code",
   "execution_count": null,
   "metadata": {},
   "outputs": [],
   "source": []
  }
 ],
 "metadata": {
  "kernelspec": {
   "display_name": "Python 3",
   "language": "python",
   "name": "python3"
  },
  "language_info": {
   "codemirror_mode": {
    "name": "ipython",
    "version": 3
   },
   "file_extension": ".py",
   "mimetype": "text/x-python",
   "name": "python",
   "nbconvert_exporter": "python",
   "pygments_lexer": "ipython3",
   "version": "3.10.12"
  }
 },
 "nbformat": 4,
 "nbformat_minor": 2
}
